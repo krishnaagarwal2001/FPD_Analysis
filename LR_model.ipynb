{
 "cells": [
  {
   "cell_type": "code",
   "execution_count": 1,
   "id": "355288bf",
   "metadata": {},
   "outputs": [],
   "source": [
    "import pandas as pd\n",
    "import numpy as np"
   ]
  },
  {
   "cell_type": "code",
   "execution_count": 7,
   "id": "eb217489",
   "metadata": {},
   "outputs": [],
   "source": [
    "data= pd.read_csv(r\"C:\\Users\\vidhi\\Documents\\GitHub\\FPD_Analysis\\data.csv\", sep=',', header=None)"
   ]
  },
  {
   "cell_type": "code",
   "execution_count": 21,
   "id": "8c45f550",
   "metadata": {},
   "outputs": [
    {
     "data": {
      "text/html": [
       "<div>\n",
       "<style scoped>\n",
       "    .dataframe tbody tr th:only-of-type {\n",
       "        vertical-align: middle;\n",
       "    }\n",
       "\n",
       "    .dataframe tbody tr th {\n",
       "        vertical-align: top;\n",
       "    }\n",
       "\n",
       "    .dataframe thead th {\n",
       "        text-align: right;\n",
       "    }\n",
       "</style>\n",
       "<table border=\"1\" class=\"dataframe\">\n",
       "  <thead>\n",
       "    <tr style=\"text-align: right;\">\n",
       "      <th></th>\n",
       "      <th>0</th>\n",
       "      <th>1</th>\n",
       "      <th>2</th>\n",
       "      <th>3</th>\n",
       "      <th>4</th>\n",
       "      <th>5</th>\n",
       "      <th>6</th>\n",
       "    </tr>\n",
       "  </thead>\n",
       "  <tbody>\n",
       "    <tr>\n",
       "      <th>0</th>\n",
       "      <td>0</td>\n",
       "      <td>77</td>\n",
       "      <td>250</td>\n",
       "      <td>186</td>\n",
       "      <td>140</td>\n",
       "      <td>2250</td>\n",
       "      <td>356.299597</td>\n",
       "    </tr>\n",
       "    <tr>\n",
       "      <th>1</th>\n",
       "      <td>1</td>\n",
       "      <td>120</td>\n",
       "      <td>350</td>\n",
       "      <td>337</td>\n",
       "      <td>250</td>\n",
       "      <td>2050</td>\n",
       "      <td>594.711794</td>\n",
       "    </tr>\n",
       "    <tr>\n",
       "      <th>2</th>\n",
       "      <td>2</td>\n",
       "      <td>50</td>\n",
       "      <td>250</td>\n",
       "      <td>120</td>\n",
       "      <td>180</td>\n",
       "      <td>2750</td>\n",
       "      <td>397.169697</td>\n",
       "    </tr>\n",
       "    <tr>\n",
       "      <th>3</th>\n",
       "      <td>3</td>\n",
       "      <td>77</td>\n",
       "      <td>450</td>\n",
       "      <td>242</td>\n",
       "      <td>280</td>\n",
       "      <td>2100</td>\n",
       "      <td>533.652731</td>\n",
       "    </tr>\n",
       "    <tr>\n",
       "      <th>4</th>\n",
       "      <td>4</td>\n",
       "      <td>50</td>\n",
       "      <td>200</td>\n",
       "      <td>109</td>\n",
       "      <td>200</td>\n",
       "      <td>3450</td>\n",
       "      <td>475.882888</td>\n",
       "    </tr>\n",
       "    <tr>\n",
       "      <th>...</th>\n",
       "      <td>...</td>\n",
       "      <td>...</td>\n",
       "      <td>...</td>\n",
       "      <td>...</td>\n",
       "      <td>...</td>\n",
       "      <td>...</td>\n",
       "      <td>...</td>\n",
       "    </tr>\n",
       "    <tr>\n",
       "      <th>76</th>\n",
       "      <td>76</td>\n",
       "      <td>120</td>\n",
       "      <td>400</td>\n",
       "      <td>357</td>\n",
       "      <td>250</td>\n",
       "      <td>3250</td>\n",
       "      <td>790.500668</td>\n",
       "    </tr>\n",
       "    <tr>\n",
       "      <th>77</th>\n",
       "      <td>77</td>\n",
       "      <td>50</td>\n",
       "      <td>400</td>\n",
       "      <td>149</td>\n",
       "      <td>240</td>\n",
       "      <td>1650</td>\n",
       "      <td>363.484711</td>\n",
       "    </tr>\n",
       "    <tr>\n",
       "      <th>78</th>\n",
       "      <td>78</td>\n",
       "      <td>50</td>\n",
       "      <td>250</td>\n",
       "      <td>120</td>\n",
       "      <td>170</td>\n",
       "      <td>2600</td>\n",
       "      <td>369.149884</td>\n",
       "    </tr>\n",
       "    <tr>\n",
       "      <th>79</th>\n",
       "      <td>79</td>\n",
       "      <td>120</td>\n",
       "      <td>350</td>\n",
       "      <td>337</td>\n",
       "      <td>270</td>\n",
       "      <td>2200</td>\n",
       "      <td>623.609487</td>\n",
       "    </tr>\n",
       "    <tr>\n",
       "      <th>80</th>\n",
       "      <td>80</td>\n",
       "      <td>50</td>\n",
       "      <td>450</td>\n",
       "      <td>157</td>\n",
       "      <td>160</td>\n",
       "      <td>2250</td>\n",
       "      <td>375.888338</td>\n",
       "    </tr>\n",
       "  </tbody>\n",
       "</table>\n",
       "<p>81 rows × 7 columns</p>\n",
       "</div>"
      ],
      "text/plain": [
       "     0    1    2    3    4     5           6\n",
       "0    0   77  250  186  140  2250  356.299597\n",
       "1    1  120  350  337  250  2050  594.711794\n",
       "2    2   50  250  120  180  2750  397.169697\n",
       "3    3   77  450  242  280  2100  533.652731\n",
       "4    4   50  200  109  200  3450  475.882888\n",
       "..  ..  ...  ...  ...  ...   ...         ...\n",
       "76  76  120  400  357  250  3250  790.500668\n",
       "77  77   50  400  149  240  1650  363.484711\n",
       "78  78   50  250  120  170  2600  369.149884\n",
       "79  79  120  350  337  270  2200  623.609487\n",
       "80  80   50  450  157  160  2250  375.888338\n",
       "\n",
       "[81 rows x 7 columns]"
      ]
     },
     "execution_count": 21,
     "metadata": {},
     "output_type": "execute_result"
    }
   ],
   "source": [
    "data"
   ]
  },
  {
   "cell_type": "code",
   "execution_count": 9,
   "id": "46727ff3",
   "metadata": {},
   "outputs": [],
   "source": [
    "x= data.iloc[:,0:6].to_numpy()\n",
    "y= data.iloc[:,6].to_numpy()"
   ]
  },
  {
   "cell_type": "code",
   "execution_count": 22,
   "id": "9ed70440",
   "metadata": {},
   "outputs": [
    {
     "name": "stdout",
     "output_type": "stream",
     "text": [
      "[[   0   77  250  186  140 2250]\n",
      " [   1  120  350  337  250 2050]\n",
      " [   2   50  250  120  180 2750]\n",
      " [   3   77  450  242  280 2100]\n",
      " [   4   50  200  109  200 3450]\n",
      " [   5   50  400  149  250 2050]\n",
      " [   6  120  300  314  210 3400]\n",
      " [   7  100  450  314  150 2550]\n",
      " [   8  120  300  314  250 2500]\n",
      " [   9  120  350  337  260 3350]\n",
      " [  10  100  300  261  170 3000]\n",
      " [  11  100  300  261  220 3500]\n",
      " [  12   50  450  157  290 2800]\n",
      " [  13   77  300  202  180 3150]\n",
      " [  14  120  250  289  170 1500]\n",
      " [  15  100  250  241  200 2450]\n",
      " [  16  120  250  289  150 2000]\n",
      " [  17   50  250  120  150 3200]\n",
      " [  18  120  350  337  190 1500]\n",
      " [  19  120  350  337  210 1650]\n",
      " [  20   50  300  131  170 3400]\n",
      " [  21   50  300  131  250 2550]\n",
      " [  22  120  350  337  210 1850]\n",
      " [  23   77  400  230  200 2900]\n",
      " [  24  120  350  337  190 3300]\n",
      " [  25  120  450  377  230 2900]\n",
      " [  26   50  200  109  230 2400]\n",
      " [  27   77  400  230  250 2200]\n",
      " [  28  100  250  241  290 2000]\n",
      " [  29   50  400  149  270 2350]\n",
      " [  30  100  450  314  290 3450]\n",
      " [  31   77  300  202  270 2550]\n",
      " [  32  100  200  218  250 1550]\n",
      " [  33  100  450  314  270 2400]\n",
      " [  34  120  200  262  170 2550]\n",
      " [  35  100  200  218  270 3150]\n",
      " [  36  100  400  297  200 1800]\n",
      " [  37  120  400  357  290 1700]\n",
      " [  38   77  350  216  280 2050]\n",
      " [  39   77  200  168  230 2100]\n",
      " [  40  100  400  297  270 2050]\n",
      " [  41   50  300  131  160 1950]\n",
      " [  42   50  250  120  240 2600]\n",
      " [  43   77  450  242  250 2600]\n",
      " [  44  120  200  262  180 2900]\n",
      " [  45   77  200  168  170 2700]\n",
      " [  46  100  400  297  170 1500]\n",
      " [  47  120  350  337  270 1500]\n",
      " [  48   77  200  168  280 3350]\n",
      " [  49  120  250  289  170 2050]\n",
      " [  50   50  250  120  200 2700]\n",
      " [  51   50  200  109  150 2050]\n",
      " [  52   77  350  216  240 3500]\n",
      " [  53   50  200  109  240 2150]\n",
      " [  54   77  450  242  270 1700]\n",
      " [  55  100  400  297  210 3350]\n",
      " [  56   77  350  216  300 2150]\n",
      " [  57   50  300  131  140 2700]\n",
      " [  58   77  350  216  210 3000]\n",
      " [  59  100  200  218  250 1550]\n",
      " [  60  100  250  241  210 2850]\n",
      " [  61   77  350  216  180 3500]\n",
      " [  62  100  250  241  230 2000]\n",
      " [  63  100  300  261  260 3450]\n",
      " [  64   77  250  186  190 1850]\n",
      " [  65  120  300  314  240 2750]\n",
      " [  66  120  450  377  300 2950]\n",
      " [  67   50  300  131  250 2000]\n",
      " [  68  100  200  218  170 1950]\n",
      " [  69   50  350  140  220 3000]\n",
      " [  70  100  300  261  190 2750]\n",
      " [  71   77  250  186  200 2150]\n",
      " [  72   77  300  202  240 1700]\n",
      " [  73   50  400  149  240 2950]\n",
      " [  74   50  400  149  200 1550]\n",
      " [  75  100  350  280  140 2650]\n",
      " [  76  120  400  357  250 3250]\n",
      " [  77   50  400  149  240 1650]\n",
      " [  78   50  250  120  170 2600]\n",
      " [  79  120  350  337  270 2200]\n",
      " [  80   50  450  157  160 2250]]\n"
     ]
    }
   ],
   "source": [
    "print(x)"
   ]
  },
  {
   "cell_type": "code",
   "execution_count": 10,
   "id": "299b1c55",
   "metadata": {},
   "outputs": [
    {
     "name": "stdout",
     "output_type": "stream",
     "text": [
      "[356.2995965 594.7117945 397.1696973 533.6527312 475.8828877 419.4245187\n",
      " 711.2898343 541.5388347 630.480341  784.7885018 558.0701835 682.4359277\n",
      " 545.3691994 530.4304522 420.9039418 512.9576885 446.7888892 382.6971598\n",
      " 488.5032947 519.0499552 456.6873923 455.6030014 545.432786  568.4774227\n",
      " 702.5111452 745.7881396 394.7736027 519.5370003 504.7810886 466.8447227\n",
      " 797.4837935 541.7115156 404.4629393 642.5091799 501.3825274 629.9229934\n",
      " 500.8773496 575.0567456 493.7101956 421.5740609 570.9365464 311.9324739\n",
      " 440.2372941 590.8114438 553.1311155 426.002911  440.9649635 520.2895964\n",
      " 608.797323  480.0529465 416.0375934 277.7627831 660.7711645 373.8529064\n",
      " 472.7268121 701.6041968 513.9064712 339.5149337 572.7937595 404.4629393\n",
      " 570.3624506 585.0868557 480.8035371 716.5890236 383.8315579 657.7644084\n",
      " 788.0552638 388.013101  399.825208  498.5188482 561.1110392 425.6116148\n",
      " 414.3361357 524.132353  330.3410744 487.9805454 790.5006682 363.4847111\n",
      " 369.1498845 623.609487  375.8883379]\n"
     ]
    }
   ],
   "source": [
    "print(y)"
   ]
  },
  {
   "cell_type": "code",
   "execution_count": 11,
   "id": "e7854f47",
   "metadata": {},
   "outputs": [],
   "source": [
    "from sklearn.model_selection import train_test_split"
   ]
  },
  {
   "cell_type": "code",
   "execution_count": 23,
   "id": "759eb222",
   "metadata": {},
   "outputs": [],
   "source": [
    "X_train, X_test, y_train, y_test = train_test_split(x, y, train_size = 0.7, \n",
    "                                                    test_size = 0.3, random_state = 42)"
   ]
  },
  {
   "cell_type": "code",
   "execution_count": 24,
   "id": "c0e20dea",
   "metadata": {},
   "outputs": [],
   "source": [
    "from sklearn.linear_model import LinearRegression"
   ]
  },
  {
   "cell_type": "code",
   "execution_count": 25,
   "id": "8567c063",
   "metadata": {},
   "outputs": [],
   "source": [
    "lr = LinearRegression().fit(X_train, y_train)"
   ]
  },
  {
   "cell_type": "code",
   "execution_count": 26,
   "id": "65b75f95",
   "metadata": {},
   "outputs": [
    {
     "name": "stdout",
     "output_type": "stream",
     "text": [
      "lr.coef_: [0.07098331 0.70425384 0.13203804 0.74948268 0.89781809 0.1231039 ]\n",
      "lr.intercept_: -263.366042614738\n"
     ]
    }
   ],
   "source": [
    "print(\"lr.coef_: {}\".format(lr.coef_))\n",
    "print(\"lr.intercept_: {}\".format(lr.intercept_))\n"
   ]
  },
  {
   "cell_type": "code",
   "execution_count": 27,
   "id": "2d8514ee",
   "metadata": {},
   "outputs": [
    {
     "name": "stdout",
     "output_type": "stream",
     "text": [
      "Training set score: 0.99\n",
      "Test set score: 0.99\n"
     ]
    }
   ],
   "source": [
    "print(\"Training set score: {:.2f}\".format(lr.score(X_train, y_train)))\n",
    "print(\"Test set score: {:.2f}\".format(lr.score(X_test, y_test)))"
   ]
  },
  {
   "cell_type": "code",
   "execution_count": null,
   "id": "5846a46f",
   "metadata": {},
   "outputs": [],
   "source": []
  }
 ],
 "metadata": {
  "kernelspec": {
   "display_name": "Python 3 (ipykernel)",
   "language": "python",
   "name": "python3"
  },
  "language_info": {
   "codemirror_mode": {
    "name": "ipython",
    "version": 3
   },
   "file_extension": ".py",
   "mimetype": "text/x-python",
   "name": "python",
   "nbconvert_exporter": "python",
   "pygments_lexer": "ipython3",
   "version": "3.9.7"
  }
 },
 "nbformat": 4,
 "nbformat_minor": 5
}
